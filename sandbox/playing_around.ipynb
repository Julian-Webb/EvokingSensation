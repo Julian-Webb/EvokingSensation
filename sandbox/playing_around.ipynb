{
 "cells": [
  {
   "metadata": {
    "ExecuteTime": {
     "end_time": "2025-05-05T14:00:55.668079Z",
     "start_time": "2025-05-05T14:00:54.290973Z"
    }
   },
   "cell_type": "code",
   "source": [
    "from backend.stimulation_order import StimulationOrder\n",
    "\n",
    "so = StimulationOrder.from_file('C:\\\\Users\\\\julia\\\\PycharmProjects\\\\EvokingSensation\\\\data\\\\test_stim_order.xlsx')\n",
    "\n",
    "so.stim_order\n"
   ],
   "id": "819720b09c134ba4",
   "outputs": [
    {
     "data": {
      "text/plain": [
       "               block  trial                  channels  \\\n",
       "overall trial                                           \n",
       "0                  0      0                    [1, 2]   \n",
       "1                  0      1     [1, 8, 6, 5, 4, 7, 3]   \n",
       "2                  0      2                    [8, 6]   \n",
       "3                  0      3        [2, 6, 4, 5, 1, 8]   \n",
       "4                  0      4                    [3, 8]   \n",
       "5                  0      5        [4, 3, 7, 5, 6, 2]   \n",
       "6                  0      6        [2, 1, 5, 8, 6, 4]   \n",
       "7                  0      7        [4, 2, 1, 5, 8, 6]   \n",
       "8                  1      0        [5, 7, 2, 6, 4, 1]   \n",
       "9                  1      1                 [2, 7, 4]   \n",
       "10                 1      2                    [4, 2]   \n",
       "11                 1      3              [3, 4, 1, 7]   \n",
       "12                 1      4                       [7]   \n",
       "13                 1      5              [4, 7, 6, 8]   \n",
       "14                 1      6                    [8, 5]   \n",
       "15                 1      7        [5, 6, 1, 8, 3, 2]   \n",
       "16                 2      0              [3, 1, 7, 2]   \n",
       "17                 2      1           [1, 5, 2, 3, 8]   \n",
       "18                 2      2                       [6]   \n",
       "19                 2      3  [1, 4, 2, 5, 6, 8, 7, 3]   \n",
       "20                 2      4        [7, 3, 4, 6, 8, 1]   \n",
       "21                 2      5     [3, 5, 2, 6, 8, 4, 7]   \n",
       "22                 2      6                 [1, 4, 8]   \n",
       "23                 2      7        [6, 2, 7, 3, 4, 5]   \n",
       "24                 3      0           [3, 5, 8, 1, 4]   \n",
       "25                 3      1  [4, 8, 1, 7, 6, 2, 3, 5]   \n",
       "26                 3      2              [4, 7, 3, 8]   \n",
       "27                 3      3        [5, 8, 6, 1, 2, 7]   \n",
       "28                 3      4     [6, 8, 3, 4, 5, 2, 1]   \n",
       "29                 3      5        [7, 2, 6, 8, 5, 1]   \n",
       "30                 3      6           [2, 8, 5, 4, 6]   \n",
       "31                 3      7                 [4, 8, 3]   \n",
       "\n",
       "                                                      electrodes  \n",
       "overall trial                                                     \n",
       "0                                               [(1, 2), (3, 4)]  \n",
       "1              [(1, 2), (15, 16), (11, 12), (9, 10), (7, 8), ...  \n",
       "2                                           [(15, 16), (11, 12)]  \n",
       "3              [(3, 4), (11, 12), (7, 8), (9, 10), (1, 2), (1...  \n",
       "4                                             [(5, 6), (15, 16)]  \n",
       "5              [(7, 8), (5, 6), (13, 14), (9, 10), (11, 12), ...  \n",
       "6              [(3, 4), (1, 2), (9, 10), (15, 16), (11, 12), ...  \n",
       "7              [(7, 8), (3, 4), (1, 2), (9, 10), (15, 16), (1...  \n",
       "8              [(9, 10), (13, 14), (3, 4), (11, 12), (7, 8), ...  \n",
       "9                                     [(3, 4), (13, 14), (7, 8)]  \n",
       "10                                              [(7, 8), (3, 4)]  \n",
       "11                            [(5, 6), (7, 8), (1, 2), (13, 14)]  \n",
       "12                                                    [(13, 14)]  \n",
       "13                        [(7, 8), (13, 14), (11, 12), (15, 16)]  \n",
       "14                                           [(15, 16), (9, 10)]  \n",
       "15             [(9, 10), (11, 12), (1, 2), (15, 16), (5, 6), ...  \n",
       "16                            [(5, 6), (1, 2), (13, 14), (3, 4)]  \n",
       "17                   [(1, 2), (9, 10), (3, 4), (5, 6), (15, 16)]  \n",
       "18                                                    [(11, 12)]  \n",
       "19             [(1, 2), (7, 8), (3, 4), (9, 10), (11, 12), (1...  \n",
       "20             [(13, 14), (5, 6), (7, 8), (11, 12), (15, 16),...  \n",
       "21             [(5, 6), (9, 10), (3, 4), (11, 12), (15, 16), ...  \n",
       "22                                    [(1, 2), (7, 8), (15, 16)]  \n",
       "23             [(11, 12), (3, 4), (13, 14), (5, 6), (7, 8), (...  \n",
       "24                   [(5, 6), (9, 10), (15, 16), (1, 2), (7, 8)]  \n",
       "25             [(7, 8), (15, 16), (1, 2), (13, 14), (11, 12),...  \n",
       "26                          [(7, 8), (13, 14), (5, 6), (15, 16)]  \n",
       "27             [(9, 10), (15, 16), (11, 12), (1, 2), (3, 4), ...  \n",
       "28             [(11, 12), (15, 16), (5, 6), (7, 8), (9, 10), ...  \n",
       "29             [(13, 14), (3, 4), (11, 12), (15, 16), (9, 10)...  \n",
       "30                 [(3, 4), (15, 16), (9, 10), (7, 8), (11, 12)]  \n",
       "31                                    [(7, 8), (15, 16), (5, 6)]  "
      ],
      "text/html": [
       "<div>\n",
       "<style scoped>\n",
       "    .dataframe tbody tr th:only-of-type {\n",
       "        vertical-align: middle;\n",
       "    }\n",
       "\n",
       "    .dataframe tbody tr th {\n",
       "        vertical-align: top;\n",
       "    }\n",
       "\n",
       "    .dataframe thead th {\n",
       "        text-align: right;\n",
       "    }\n",
       "</style>\n",
       "<table border=\"1\" class=\"dataframe\">\n",
       "  <thead>\n",
       "    <tr style=\"text-align: right;\">\n",
       "      <th></th>\n",
       "      <th>block</th>\n",
       "      <th>trial</th>\n",
       "      <th>channels</th>\n",
       "      <th>electrodes</th>\n",
       "    </tr>\n",
       "    <tr>\n",
       "      <th>overall trial</th>\n",
       "      <th></th>\n",
       "      <th></th>\n",
       "      <th></th>\n",
       "      <th></th>\n",
       "    </tr>\n",
       "  </thead>\n",
       "  <tbody>\n",
       "    <tr>\n",
       "      <th>0</th>\n",
       "      <td>0</td>\n",
       "      <td>0</td>\n",
       "      <td>[1, 2]</td>\n",
       "      <td>[(1, 2), (3, 4)]</td>\n",
       "    </tr>\n",
       "    <tr>\n",
       "      <th>1</th>\n",
       "      <td>0</td>\n",
       "      <td>1</td>\n",
       "      <td>[1, 8, 6, 5, 4, 7, 3]</td>\n",
       "      <td>[(1, 2), (15, 16), (11, 12), (9, 10), (7, 8), ...</td>\n",
       "    </tr>\n",
       "    <tr>\n",
       "      <th>2</th>\n",
       "      <td>0</td>\n",
       "      <td>2</td>\n",
       "      <td>[8, 6]</td>\n",
       "      <td>[(15, 16), (11, 12)]</td>\n",
       "    </tr>\n",
       "    <tr>\n",
       "      <th>3</th>\n",
       "      <td>0</td>\n",
       "      <td>3</td>\n",
       "      <td>[2, 6, 4, 5, 1, 8]</td>\n",
       "      <td>[(3, 4), (11, 12), (7, 8), (9, 10), (1, 2), (1...</td>\n",
       "    </tr>\n",
       "    <tr>\n",
       "      <th>4</th>\n",
       "      <td>0</td>\n",
       "      <td>4</td>\n",
       "      <td>[3, 8]</td>\n",
       "      <td>[(5, 6), (15, 16)]</td>\n",
       "    </tr>\n",
       "    <tr>\n",
       "      <th>5</th>\n",
       "      <td>0</td>\n",
       "      <td>5</td>\n",
       "      <td>[4, 3, 7, 5, 6, 2]</td>\n",
       "      <td>[(7, 8), (5, 6), (13, 14), (9, 10), (11, 12), ...</td>\n",
       "    </tr>\n",
       "    <tr>\n",
       "      <th>6</th>\n",
       "      <td>0</td>\n",
       "      <td>6</td>\n",
       "      <td>[2, 1, 5, 8, 6, 4]</td>\n",
       "      <td>[(3, 4), (1, 2), (9, 10), (15, 16), (11, 12), ...</td>\n",
       "    </tr>\n",
       "    <tr>\n",
       "      <th>7</th>\n",
       "      <td>0</td>\n",
       "      <td>7</td>\n",
       "      <td>[4, 2, 1, 5, 8, 6]</td>\n",
       "      <td>[(7, 8), (3, 4), (1, 2), (9, 10), (15, 16), (1...</td>\n",
       "    </tr>\n",
       "    <tr>\n",
       "      <th>8</th>\n",
       "      <td>1</td>\n",
       "      <td>0</td>\n",
       "      <td>[5, 7, 2, 6, 4, 1]</td>\n",
       "      <td>[(9, 10), (13, 14), (3, 4), (11, 12), (7, 8), ...</td>\n",
       "    </tr>\n",
       "    <tr>\n",
       "      <th>9</th>\n",
       "      <td>1</td>\n",
       "      <td>1</td>\n",
       "      <td>[2, 7, 4]</td>\n",
       "      <td>[(3, 4), (13, 14), (7, 8)]</td>\n",
       "    </tr>\n",
       "    <tr>\n",
       "      <th>10</th>\n",
       "      <td>1</td>\n",
       "      <td>2</td>\n",
       "      <td>[4, 2]</td>\n",
       "      <td>[(7, 8), (3, 4)]</td>\n",
       "    </tr>\n",
       "    <tr>\n",
       "      <th>11</th>\n",
       "      <td>1</td>\n",
       "      <td>3</td>\n",
       "      <td>[3, 4, 1, 7]</td>\n",
       "      <td>[(5, 6), (7, 8), (1, 2), (13, 14)]</td>\n",
       "    </tr>\n",
       "    <tr>\n",
       "      <th>12</th>\n",
       "      <td>1</td>\n",
       "      <td>4</td>\n",
       "      <td>[7]</td>\n",
       "      <td>[(13, 14)]</td>\n",
       "    </tr>\n",
       "    <tr>\n",
       "      <th>13</th>\n",
       "      <td>1</td>\n",
       "      <td>5</td>\n",
       "      <td>[4, 7, 6, 8]</td>\n",
       "      <td>[(7, 8), (13, 14), (11, 12), (15, 16)]</td>\n",
       "    </tr>\n",
       "    <tr>\n",
       "      <th>14</th>\n",
       "      <td>1</td>\n",
       "      <td>6</td>\n",
       "      <td>[8, 5]</td>\n",
       "      <td>[(15, 16), (9, 10)]</td>\n",
       "    </tr>\n",
       "    <tr>\n",
       "      <th>15</th>\n",
       "      <td>1</td>\n",
       "      <td>7</td>\n",
       "      <td>[5, 6, 1, 8, 3, 2]</td>\n",
       "      <td>[(9, 10), (11, 12), (1, 2), (15, 16), (5, 6), ...</td>\n",
       "    </tr>\n",
       "    <tr>\n",
       "      <th>16</th>\n",
       "      <td>2</td>\n",
       "      <td>0</td>\n",
       "      <td>[3, 1, 7, 2]</td>\n",
       "      <td>[(5, 6), (1, 2), (13, 14), (3, 4)]</td>\n",
       "    </tr>\n",
       "    <tr>\n",
       "      <th>17</th>\n",
       "      <td>2</td>\n",
       "      <td>1</td>\n",
       "      <td>[1, 5, 2, 3, 8]</td>\n",
       "      <td>[(1, 2), (9, 10), (3, 4), (5, 6), (15, 16)]</td>\n",
       "    </tr>\n",
       "    <tr>\n",
       "      <th>18</th>\n",
       "      <td>2</td>\n",
       "      <td>2</td>\n",
       "      <td>[6]</td>\n",
       "      <td>[(11, 12)]</td>\n",
       "    </tr>\n",
       "    <tr>\n",
       "      <th>19</th>\n",
       "      <td>2</td>\n",
       "      <td>3</td>\n",
       "      <td>[1, 4, 2, 5, 6, 8, 7, 3]</td>\n",
       "      <td>[(1, 2), (7, 8), (3, 4), (9, 10), (11, 12), (1...</td>\n",
       "    </tr>\n",
       "    <tr>\n",
       "      <th>20</th>\n",
       "      <td>2</td>\n",
       "      <td>4</td>\n",
       "      <td>[7, 3, 4, 6, 8, 1]</td>\n",
       "      <td>[(13, 14), (5, 6), (7, 8), (11, 12), (15, 16),...</td>\n",
       "    </tr>\n",
       "    <tr>\n",
       "      <th>21</th>\n",
       "      <td>2</td>\n",
       "      <td>5</td>\n",
       "      <td>[3, 5, 2, 6, 8, 4, 7]</td>\n",
       "      <td>[(5, 6), (9, 10), (3, 4), (11, 12), (15, 16), ...</td>\n",
       "    </tr>\n",
       "    <tr>\n",
       "      <th>22</th>\n",
       "      <td>2</td>\n",
       "      <td>6</td>\n",
       "      <td>[1, 4, 8]</td>\n",
       "      <td>[(1, 2), (7, 8), (15, 16)]</td>\n",
       "    </tr>\n",
       "    <tr>\n",
       "      <th>23</th>\n",
       "      <td>2</td>\n",
       "      <td>7</td>\n",
       "      <td>[6, 2, 7, 3, 4, 5]</td>\n",
       "      <td>[(11, 12), (3, 4), (13, 14), (5, 6), (7, 8), (...</td>\n",
       "    </tr>\n",
       "    <tr>\n",
       "      <th>24</th>\n",
       "      <td>3</td>\n",
       "      <td>0</td>\n",
       "      <td>[3, 5, 8, 1, 4]</td>\n",
       "      <td>[(5, 6), (9, 10), (15, 16), (1, 2), (7, 8)]</td>\n",
       "    </tr>\n",
       "    <tr>\n",
       "      <th>25</th>\n",
       "      <td>3</td>\n",
       "      <td>1</td>\n",
       "      <td>[4, 8, 1, 7, 6, 2, 3, 5]</td>\n",
       "      <td>[(7, 8), (15, 16), (1, 2), (13, 14), (11, 12),...</td>\n",
       "    </tr>\n",
       "    <tr>\n",
       "      <th>26</th>\n",
       "      <td>3</td>\n",
       "      <td>2</td>\n",
       "      <td>[4, 7, 3, 8]</td>\n",
       "      <td>[(7, 8), (13, 14), (5, 6), (15, 16)]</td>\n",
       "    </tr>\n",
       "    <tr>\n",
       "      <th>27</th>\n",
       "      <td>3</td>\n",
       "      <td>3</td>\n",
       "      <td>[5, 8, 6, 1, 2, 7]</td>\n",
       "      <td>[(9, 10), (15, 16), (11, 12), (1, 2), (3, 4), ...</td>\n",
       "    </tr>\n",
       "    <tr>\n",
       "      <th>28</th>\n",
       "      <td>3</td>\n",
       "      <td>4</td>\n",
       "      <td>[6, 8, 3, 4, 5, 2, 1]</td>\n",
       "      <td>[(11, 12), (15, 16), (5, 6), (7, 8), (9, 10), ...</td>\n",
       "    </tr>\n",
       "    <tr>\n",
       "      <th>29</th>\n",
       "      <td>3</td>\n",
       "      <td>5</td>\n",
       "      <td>[7, 2, 6, 8, 5, 1]</td>\n",
       "      <td>[(13, 14), (3, 4), (11, 12), (15, 16), (9, 10)...</td>\n",
       "    </tr>\n",
       "    <tr>\n",
       "      <th>30</th>\n",
       "      <td>3</td>\n",
       "      <td>6</td>\n",
       "      <td>[2, 8, 5, 4, 6]</td>\n",
       "      <td>[(3, 4), (15, 16), (9, 10), (7, 8), (11, 12)]</td>\n",
       "    </tr>\n",
       "    <tr>\n",
       "      <th>31</th>\n",
       "      <td>3</td>\n",
       "      <td>7</td>\n",
       "      <td>[4, 8, 3]</td>\n",
       "      <td>[(7, 8), (15, 16), (5, 6)]</td>\n",
       "    </tr>\n",
       "  </tbody>\n",
       "</table>\n",
       "</div>"
      ]
     },
     "execution_count": 1,
     "metadata": {},
     "output_type": "execute_result"
    }
   ],
   "execution_count": 1
  },
  {
   "metadata": {
    "ExecuteTime": {
     "end_time": "2025-05-05T14:00:55.764793Z",
     "start_time": "2025-05-05T14:00:55.754061Z"
    }
   },
   "cell_type": "code",
   "source": "len(so.stim_order)",
   "id": "14bc1b74e5ef35d7",
   "outputs": [
    {
     "data": {
      "text/plain": [
       "32"
      ]
     },
     "execution_count": 2,
     "metadata": {},
     "output_type": "execute_result"
    }
   ],
   "execution_count": 2
  },
  {
   "metadata": {
    "ExecuteTime": {
     "end_time": "2025-05-02T15:03:27.732771Z",
     "start_time": "2025-05-02T15:03:27.721370Z"
    }
   },
   "cell_type": "code",
   "source": [
    "row = so.stim_order.iloc[9]\n",
    "row"
   ],
   "id": "12db6eb84837977e",
   "outputs": [
    {
     "data": {
      "text/plain": [
       "block                                  1\n",
       "trial                                  1\n",
       "channels                       [2, 7, 4]\n",
       "electrodes    [(3, 4), (13, 14), (7, 8)]\n",
       "Name: 9, dtype: object"
      ]
     },
     "execution_count": 2,
     "metadata": {},
     "output_type": "execute_result"
    }
   ],
   "execution_count": 2
  },
  {
   "metadata": {
    "ExecuteTime": {
     "end_time": "2025-05-02T15:03:27.890986Z",
     "start_time": "2025-05-02T15:03:27.876917Z"
    }
   },
   "cell_type": "code",
   "source": [
    "trial = so.current_trial()\n",
    "trial"
   ],
   "id": "21d3082bce90cd9c",
   "outputs": [
    {
     "name": "stdout",
     "output_type": "stream",
     "text": [
      "ver 2\n"
     ]
    },
    {
     "data": {
      "text/plain": [
       "{'block': 0,\n",
       " 'trial': 0,\n",
       " 'channels': [7, 3, 1, 2, 4, 5, 6, 8],\n",
       " 'electrodes': [(13, 14),\n",
       "  (5, 6),\n",
       "  (1, 2),\n",
       "  (3, 4),\n",
       "  (7, 8),\n",
       "  (9, 10),\n",
       "  (11, 12),\n",
       "  (15, 16)]}"
      ]
     },
     "execution_count": 3,
     "metadata": {},
     "output_type": "execute_result"
    }
   ],
   "execution_count": 3
  },
  {
   "metadata": {
    "ExecuteTime": {
     "end_time": "2025-05-02T15:03:39.320036Z",
     "start_time": "2025-05-02T15:03:39.310005Z"
    }
   },
   "cell_type": "code",
   "source": "int(trial['block'])",
   "id": "fec35cd74d1e6964",
   "outputs": [
    {
     "data": {
      "text/plain": [
       "0"
      ]
     },
     "execution_count": 4,
     "metadata": {},
     "output_type": "execute_result"
    }
   ],
   "execution_count": 4
  },
  {
   "metadata": {
    "ExecuteTime": {
     "end_time": "2025-05-02T15:03:39.547944Z",
     "start_time": "2025-05-02T15:03:39.527782Z"
    }
   },
   "cell_type": "code",
   "source": [
    "trial['block'] = int(trial['block'])\n",
    "trial"
   ],
   "id": "7f9ac636cc2bd880",
   "outputs": [
    {
     "data": {
      "text/plain": [
       "{'block': 0,\n",
       " 'trial': 0,\n",
       " 'channels': [7, 3, 1, 2, 4, 5, 6, 8],\n",
       " 'electrodes': [(13, 14),\n",
       "  (5, 6),\n",
       "  (1, 2),\n",
       "  (3, 4),\n",
       "  (7, 8),\n",
       "  (9, 10),\n",
       "  (11, 12),\n",
       "  (15, 16)]}"
      ]
     },
     "execution_count": 5,
     "metadata": {},
     "output_type": "execute_result"
    }
   ],
   "execution_count": 5
  },
  {
   "metadata": {
    "ExecuteTime": {
     "end_time": "2025-05-02T15:04:06.001029Z",
     "start_time": "2025-05-02T15:04:05.976998Z"
    }
   },
   "cell_type": "code",
   "source": "type(trial['electrodes'])",
   "id": "a2d9830de4c1564c",
   "outputs": [
    {
     "data": {
      "text/plain": [
       "list"
      ]
     },
     "execution_count": 8,
     "metadata": {},
     "output_type": "execute_result"
    }
   ],
   "execution_count": 8
  },
  {
   "metadata": {
    "ExecuteTime": {
     "end_time": "2025-05-02T14:52:03.999404Z",
     "start_time": "2025-05-02T14:52:03.984911Z"
    }
   },
   "cell_type": "code",
   "source": [
    "lst = '[0, 1, 2, 3]'\n",
    "lst[row['block']]"
   ],
   "id": "ef84ae83da500e11",
   "outputs": [
    {
     "data": {
      "text/plain": [
       "'0'"
      ]
     },
     "execution_count": 7,
     "metadata": {},
     "output_type": "execute_result"
    }
   ],
   "execution_count": 7
  },
  {
   "metadata": {
    "ExecuteTime": {
     "end_time": "2025-05-02T14:52:05.374243Z",
     "start_time": "2025-05-02T14:52:05.361205Z"
    }
   },
   "cell_type": "code",
   "source": [
    "import ast\n",
    "\n",
    "ast.literal_eval(lst)"
   ],
   "id": "eed262b16b86a739",
   "outputs": [
    {
     "data": {
      "text/plain": [
       "[0, 1, 2, 3]"
      ]
     },
     "execution_count": 8,
     "metadata": {},
     "output_type": "execute_result"
    }
   ],
   "execution_count": 8
  },
  {
   "metadata": {
    "ExecuteTime": {
     "end_time": "2025-05-02T15:37:18.087542Z",
     "start_time": "2025-05-02T15:37:15.384184Z"
    }
   },
   "cell_type": "code",
   "source": "lst + 1",
   "id": "611cbd71d6a65e1b",
   "outputs": [
    {
     "ename": "NameError",
     "evalue": "name 'lst' is not defined",
     "output_type": "error",
     "traceback": [
      "\u001B[31m---------------------------------------------------------------------------\u001B[39m",
      "\u001B[31mNameError\u001B[39m                                 Traceback (most recent call last)",
      "\u001B[36mCell\u001B[39m\u001B[36m \u001B[39m\u001B[32mIn[13]\u001B[39m\u001B[32m, line 1\u001B[39m\n\u001B[32m----> \u001B[39m\u001B[32m1\u001B[39m \u001B[43mlst\u001B[49m + \u001B[32m1\u001B[39m\n",
      "\u001B[31mNameError\u001B[39m: name 'lst' is not defined"
     ]
    }
   ],
   "execution_count": 13
  },
  {
   "metadata": {
    "ExecuteTime": {
     "end_time": "2025-05-02T15:29:35.039809Z",
     "start_time": "2025-05-02T15:29:35.033476Z"
    }
   },
   "cell_type": "code",
   "source": [
    "my_set = set()\n",
    "print(not my_set)\n",
    "\n",
    "my_set.add(1)\n",
    "print(my_set)\n",
    "print(not my_set)"
   ],
   "id": "197ce93a62d2e12",
   "outputs": [
    {
     "name": "stdout",
     "output_type": "stream",
     "text": [
      "True\n",
      "{1}\n",
      "False\n"
     ]
    }
   ],
   "execution_count": 12
  },
  {
   "metadata": {
    "ExecuteTime": {
     "end_time": "2025-05-05T14:06:42.066081Z",
     "start_time": "2025-05-05T14:06:42.059195Z"
    }
   },
   "cell_type": "code",
   "source": [
    "dic = {'a': 1, 'b': 2}\n",
    "print(bool(dic))\n",
    "dic = None\n",
    "print(bool(dic))\n"
   ],
   "id": "915fe41ddc7f9573",
   "outputs": [
    {
     "name": "stdout",
     "output_type": "stream",
     "text": [
      "True\n",
      "False\n"
     ]
    }
   ],
   "execution_count": 3
  },
  {
   "metadata": {
    "ExecuteTime": {
     "end_time": "2025-05-05T15:23:24.162161Z",
     "start_time": "2025-05-05T15:23:24.154193Z"
    }
   },
   "cell_type": "code",
   "source": [
    "import random\n",
    "\n",
    "dist = random.choices(range(1, 9), weights=[8, 7, 6, 5, 4, 3, 2, 1])\n",
    "n_channels_in_trial = dist[0]\n",
    "n_channels_in_trial"
   ],
   "id": "ea01aabdbe64e9a2",
   "outputs": [
    {
     "data": {
      "text/plain": [
       "3"
      ]
     },
     "execution_count": 34,
     "metadata": {},
     "output_type": "execute_result"
    }
   ],
   "execution_count": 34
  },
  {
   "metadata": {
    "ExecuteTime": {
     "end_time": "2025-05-05T15:23:12.814056Z",
     "start_time": "2025-05-05T15:23:12.807032Z"
    }
   },
   "cell_type": "code",
   "source": "dist",
   "id": "fd0a53fa0d6423ef",
   "outputs": [
    {
     "data": {
      "text/plain": [
       "[6]"
      ]
     },
     "execution_count": 25,
     "metadata": {},
     "output_type": "execute_result"
    }
   ],
   "execution_count": 25
  },
  {
   "metadata": {
    "ExecuteTime": {
     "end_time": "2025-05-05T16:04:54.468163Z",
     "start_time": "2025-05-05T16:04:54.460499Z"
    }
   },
   "cell_type": "code",
   "source": [
    "tpl = (1, 2, 3)\n",
    "list(tpl)"
   ],
   "id": "fad4df453a1ad974",
   "outputs": [
    {
     "data": {
      "text/plain": [
       "[1, 2, 3]"
      ]
     },
     "execution_count": 36,
     "metadata": {},
     "output_type": "execute_result"
    }
   ],
   "execution_count": 36
  },
  {
   "metadata": {
    "ExecuteTime": {
     "end_time": "2025-05-06T12:14:24.567171Z",
     "start_time": "2025-05-06T12:14:24.359974Z"
    }
   },
   "cell_type": "code",
   "source": [
    "import tkinter as tk\n",
    "\n",
    "root = tk.Tk()\n",
    "int_vars = {i: tk.IntVar(root, value=0) for i in range(3)}\n",
    "int_vars"
   ],
   "id": "f85e6552dfb81bfa",
   "outputs": [
    {
     "data": {
      "text/plain": [
       "{0: <tkinter.IntVar at 0x1e6b2a12930>,\n",
       " 1: <tkinter.IntVar at 0x1e6b43cfaa0>,\n",
       " 2: <tkinter.IntVar at 0x1e6b2dce2a0>}"
      ]
     },
     "execution_count": 3,
     "metadata": {},
     "output_type": "execute_result"
    }
   ],
   "execution_count": 3
  },
  {
   "metadata": {
    "ExecuteTime": {
     "end_time": "2025-05-06T12:15:16.498139Z",
     "start_time": "2025-05-06T12:15:16.492698Z"
    }
   },
   "cell_type": "code",
   "source": [
    "int_vars[0].set(5)\n",
    "print(int_vars[0].get())\n",
    "print(int_vars[1].get())"
   ],
   "id": "150203f8ae3b3586",
   "outputs": [
    {
     "name": "stdout",
     "output_type": "stream",
     "text": [
      "5\n",
      "0\n"
     ]
    }
   ],
   "execution_count": 8
  },
  {
   "metadata": {
    "ExecuteTime": {
     "end_time": "2025-05-07T10:02:35.323864Z",
     "start_time": "2025-05-07T10:02:35.308115Z"
    }
   },
   "cell_type": "code",
   "source": [
    "class MyClass:\n",
    "    def __init__(self):\n",
    "        property_name = 'property'\n",
    "        setattr(self, property_name, 42)\n",
    "\n",
    "\n",
    "my_class = MyClass()\n",
    "my_class.property = 'hi'\n",
    "my_class.property"
   ],
   "id": "6eb5e03331e3bfab",
   "outputs": [
    {
     "data": {
      "text/plain": [
       "'hi'"
      ]
     },
     "execution_count": 1,
     "metadata": {},
     "output_type": "execute_result"
    }
   ],
   "execution_count": 1
  },
  {
   "metadata": {
    "ExecuteTime": {
     "end_time": "2025-05-07T10:02:54.515148Z",
     "start_time": "2025-05-07T10:02:54.471379Z"
    }
   },
   "cell_type": "code",
   "source": [
    "lst = []\n",
    "lst[0] = 1"
   ],
   "id": "c041be91b82ed281",
   "outputs": [
    {
     "ename": "IndexError",
     "evalue": "list assignment index out of range",
     "output_type": "error",
     "traceback": [
      "\u001B[31m---------------------------------------------------------------------------\u001B[39m",
      "\u001B[31mIndexError\u001B[39m                                Traceback (most recent call last)",
      "\u001B[36mCell\u001B[39m\u001B[36m \u001B[39m\u001B[32mIn[3]\u001B[39m\u001B[32m, line 2\u001B[39m\n\u001B[32m      1\u001B[39m lst = []\n\u001B[32m----> \u001B[39m\u001B[32m2\u001B[39m \u001B[43mlst\u001B[49m\u001B[43m[\u001B[49m\u001B[32;43m0\u001B[39;49m\u001B[43m]\u001B[49m = \u001B[32m1\u001B[39m\n",
      "\u001B[31mIndexError\u001B[39m: list assignment index out of range"
     ]
    }
   ],
   "execution_count": 3
  },
  {
   "metadata": {
    "ExecuteTime": {
     "end_time": "2025-05-16T15:12:58.162201Z",
     "start_time": "2025-05-16T15:12:57.902892Z"
    }
   },
   "cell_type": "code",
   "source": [
    "import tkinter as tk\n",
    "\n",
    "\n",
    "def callback(*args):\n",
    "    print(*args)\n",
    "\n",
    "\n",
    "win = tk.Tk()\n",
    "i = tk.IntVar(win, value=0, name='int_var')\n",
    "b = tk.BooleanVar(win, value=False, name='bool_var')\n",
    "\n",
    "for var in b, i:\n",
    "    var.trace_add('write', callback)\n",
    "\n",
    "i.set(1)\n",
    "b.set(True)"
   ],
   "id": "f542095ea3db831b",
   "outputs": [
    {
     "name": "stdout",
     "output_type": "stream",
     "text": [
      "int_var  write\n",
      "bool_var  write\n"
     ]
    }
   ],
   "execution_count": 1
  },
  {
   "metadata": {
    "jupyter": {
     "is_executing": true
    },
    "ExecuteTime": {
     "start_time": "2025-05-19T10:58:56.533092Z"
    }
   },
   "cell_type": "code",
   "source": [
    "import tkinter as tk\n",
    "from tkinter import filedialog\n",
    "\n",
    "root = tk.Tk()\n",
    "\n",
    "folder = filedialog.askdirectory(parent=root, title='Select participant data folder')\n",
    "\n",
    "root.mainloop()\n",
    "print(folder)"
   ],
   "id": "f8b4bba91d646c52",
   "outputs": [],
   "execution_count": null
  },
  {
   "metadata": {
    "ExecuteTime": {
     "end_time": "2025-05-23T11:45:46.993161Z",
     "start_time": "2025-05-23T11:45:46.970957Z"
    }
   },
   "cell_type": "code",
   "source": [
    "from dataclasses import dataclass, asdict\n",
    "\n",
    "\n",
    "@dataclass\n",
    "class TrialInfo:\n",
    "    \"\"\"Contains overall_trial, block, trial, channels, and electrodes.\"\"\"\n",
    "    overall_trial: int\n",
    "    channels: list[int]\n",
    "    electrodes: list[tuple[int, int]]\n",
    "\n",
    "\n",
    "ti = TrialInfo(1, [2, 3], [(5, 6), (7, 8)])\n",
    "\n",
    "asdict(ti)"
   ],
   "id": "5ebc3b157c90946e",
   "outputs": [
    {
     "data": {
      "text/plain": [
       "{'overall_trial': 1, 'channels': [2, 3], 'electrodes': [(5, 6), (7, 8)]}"
      ]
     },
     "execution_count": 1,
     "metadata": {},
     "output_type": "execute_result"
    }
   ],
   "execution_count": 1
  },
  {
   "metadata": {
    "ExecuteTime": {
     "end_time": "2025-05-23T12:03:48.337533Z",
     "start_time": "2025-05-23T12:03:48.314559Z"
    }
   },
   "cell_type": "code",
   "source": [
    "from backend.settings import Settings\n",
    "import json\n",
    "\n",
    "path = r'C:\\Users\\julia\\PycharmProjects\\EvokingSensation\\channel_electrode_maps\\default_electrode_map.json'\n",
    "ce_map = {1: [1, 2], 2: [3, 4], 3: [5, 6], 4: [7, 8], 5: [9, 10], 6: [11, 12], 7: [13, 14],  8: [15, 16]}\n",
    "try:\n",
    "    with open(path, 'w') as file:\n",
    "        json.dump(ce_map, file)\n",
    "except Exception as e:\n",
    "    pass\n",
    "\n",
    "with open(path, 'r') as file:\n",
    "    ce_map_loaded = json.load(file)\n",
    "# convert str keys into int\n",
    "ce_map_adj = {int(key): value for key, value in ce_map_loaded.items()}\n",
    "\n",
    "print(ce_map)\n",
    "print(ce_map_loaded)\n",
    "print(ce_map_adj)\n",
    "print(ce_map == ce_map_adj)"
   ],
   "id": "7342ffea105e9506",
   "outputs": [
    {
     "name": "stdout",
     "output_type": "stream",
     "text": [
      "{1: [1, 2], 2: [3, 4], 3: [5, 6], 4: [7, 8], 5: [9, 10], 6: [11, 12], 7: [13, 14], 8: [15, 16]}\n",
      "{'1': [1, 2], '2': [3, 4], '3': [5, 6], '4': [7, 8], '5': [9, 10], '6': [11, 12], '7': [13, 14], '8': [15, 16]}\n",
      "{1: [1, 2], 2: [3, 4], 3: [5, 6], 4: [7, 8], 5: [9, 10], 6: [11, 12], 7: [13, 14], 8: [15, 16]}\n",
      "True\n"
     ]
    }
   ],
   "execution_count": 9
  },
  {
   "metadata": {
    "ExecuteTime": {
     "end_time": "2025-05-23T12:17:11.039315Z",
     "start_time": "2025-05-23T12:17:10.991795Z"
    }
   },
   "cell_type": "code",
   "source": [
    "ce_map = {1: [1, 2], 2: [3, 4], 3: [5, 6], 4: [7, 8], 5: [9, 10], 6: [11, 12], 7: [13, 14],  8: [15, 16]}\n",
    "ce_map.clear()\n",
    "ce_map"
   ],
   "id": "7ec4d495caaaa41f",
   "outputs": [
    {
     "data": {
      "text/plain": [
       "{}"
      ]
     },
     "execution_count": 10,
     "metadata": {},
     "output_type": "execute_result"
    }
   ],
   "execution_count": 10
  },
  {
   "metadata": {
    "ExecuteTime": {
     "end_time": "2025-05-23T12:54:53.439963Z",
     "start_time": "2025-05-23T12:54:53.429610Z"
    }
   },
   "cell_type": "code",
   "source": [
    "maps = {'horizontal': {1: [1, 2], 2: [3, 4], 3: [5, 6], 4: [7, 8], 5: [9, 10], 6: [11, 12], 7: [13, 14], 8: [15, 16]}, 'vertical': {1: [1, 5], 2: [2, 6], 3: [3, 7], 4: [4, 8], 5: [9, 13], 6: [10, 14], 7: [11, 15], 8: [12, 16]}}\n",
    "\n",
    "'{\\n' +\\\n",
    "',\\n'.join(f'{map_id}: {str(map_)}'  for map_id, map_ in maps.items()) \\\n",
    "+ '\\n}'"
   ],
   "id": "d2dfd657b359d69d",
   "outputs": [
    {
     "data": {
      "text/plain": [
       "'{\\nhorizontal: {\"1\": [1, 2], \"2\": [3, 4], \"3\": [5, 6], \"4\": [7, 8], \"5\": [9, 10], \"6\": [11, 12], \"7\": [13, 14], \"8\": [15, 16]},\\nvertical: {\"1\": [1, 5], \"2\": [2, 6], \"3\": [3, 7], \"4\": [4, 8], \"5\": [9, 13], \"6\": [10, 14], \"7\": [11, 15], \"8\": [12, 16]}\\n}'"
      ]
     },
     "execution_count": 17,
     "metadata": {},
     "output_type": "execute_result"
    }
   ],
   "execution_count": 17
  },
  {
   "metadata": {
    "ExecuteTime": {
     "end_time": "2025-05-23T13:10:30.898159Z",
     "start_time": "2025-05-23T13:10:30.852547Z"
    }
   },
   "cell_type": "code",
   "source": [
    "import pprint\n",
    "with open('maps.py', 'w') as file:\n",
    "    file.write(repr(maps))\n",
    "\n",
    "pprint.pprint(maps)"
   ],
   "id": "e66d0cf576f559e1",
   "outputs": [
    {
     "name": "stdout",
     "output_type": "stream",
     "text": [
      "{'horizontal': {1: [1, 2],\n",
      "                2: [3, 4],\n",
      "                3: [5, 6],\n",
      "                4: [7, 8],\n",
      "                5: [9, 10],\n",
      "                6: [11, 12],\n",
      "                7: [13, 14],\n",
      "                8: [15, 16]},\n",
      " 'vertical': {1: [1, 5],\n",
      "              2: [2, 6],\n",
      "              3: [3, 7],\n",
      "              4: [4, 8],\n",
      "              5: [9, 13],\n",
      "              6: [10, 14],\n",
      "              7: [11, 15],\n",
      "              8: [12, 16]}}\n"
     ]
    }
   ],
   "execution_count": 21
  },
  {
   "metadata": {},
   "cell_type": "code",
   "outputs": [],
   "execution_count": null,
   "source": "",
   "id": "e755acd4b434a097"
  }
 ],
 "metadata": {
  "kernelspec": {
   "display_name": "Python 3",
   "language": "python",
   "name": "python3"
  },
  "language_info": {
   "codemirror_mode": {
    "name": "ipython",
    "version": 2
   },
   "file_extension": ".py",
   "mimetype": "text/x-python",
   "name": "python",
   "nbconvert_exporter": "python",
   "pygments_lexer": "ipython2",
   "version": "2.7.6"
  }
 },
 "nbformat": 4,
 "nbformat_minor": 5
}
