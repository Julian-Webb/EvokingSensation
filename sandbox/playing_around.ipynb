{
 "cells": [
  {
   "cell_type": "code",
   "id": "initial_id",
   "metadata": {
    "collapsed": true,
    "ExecuteTime": {
     "end_time": "2025-03-26T12:35:32.173656Z",
     "start_time": "2025-03-26T12:35:32.164852Z"
    }
   },
   "source": [
    "from sciencemode import sciencemode\n",
    "print(sciencemode.__name)"
   ],
   "outputs": [
    {
     "name": "stdout",
     "output_type": "stream",
     "text": [
      "smpt_send_reset\n"
     ]
    }
   ],
   "execution_count": 2
  },
  {
   "metadata": {
    "ExecuteTime": {
     "end_time": "2025-04-09T14:48:29.478313Z",
     "start_time": "2025-04-09T14:48:29.426771Z"
    }
   },
   "cell_type": "code",
   "source": [
    "from serial.tools import list_ports\n",
    "print(list_ports.comports())\n",
    "current_ports = [port.device for port in list_ports.comports()]\n",
    "current_ports"
   ],
   "id": "819720b09c134ba4",
   "outputs": [
    {
     "name": "stdout",
     "output_type": "stream",
     "text": [
      "[<serial.tools.list_ports_common.ListPortInfo object at 0x0000018153221820>, <serial.tools.list_ports_common.ListPortInfo object at 0x000001815345A390>, <serial.tools.list_ports_common.ListPortInfo object at 0x000001815345A7E0>]\n"
     ]
    },
    {
     "data": {
      "text/plain": [
       "['COM5', 'COM3', 'COM4']"
      ]
     },
     "execution_count": 2,
     "metadata": {},
     "output_type": "execute_result"
    }
   ],
   "execution_count": 2
  },
  {
   "metadata": {},
   "cell_type": "code",
   "outputs": [],
   "execution_count": null,
   "source": "",
   "id": "edabf5e82040b4e9"
  }
 ],
 "metadata": {
  "kernelspec": {
   "display_name": "Python 3",
   "language": "python",
   "name": "python3"
  },
  "language_info": {
   "codemirror_mode": {
    "name": "ipython",
    "version": 2
   },
   "file_extension": ".py",
   "mimetype": "text/x-python",
   "name": "python",
   "nbconvert_exporter": "python",
   "pygments_lexer": "ipython2",
   "version": "2.7.6"
  }
 },
 "nbformat": 4,
 "nbformat_minor": 5
}
